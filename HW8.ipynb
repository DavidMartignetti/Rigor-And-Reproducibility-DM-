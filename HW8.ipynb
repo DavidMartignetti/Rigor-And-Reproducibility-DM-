{
  "nbformat": 4,
  "nbformat_minor": 0,
  "metadata": {
    "colab": {
      "provenance": []
    },
    "kernelspec": {
      "name": "python3",
      "display_name": "Python 3"
    },
    "language_info": {
      "name": "python"
    }
  },
  "cells": [
    {
      "cell_type": "code",
      "execution_count": null,
      "metadata": {
        "colab": {
          "base_uri": "https://localhost:8080/"
        },
        "id": "MwHtsKC9_SiU",
        "outputId": "31825799-a66d-4e6a-e8c3-4bc689403adb"
      },
      "outputs": [
        {
          "output_type": "stream",
          "name": "stdout",
          "text": [
            "4/1/23\n",
            "1.6666666666666667\n"
          ]
        }
      ],
      "source": [
        "print(\"4/1/23\")\n",
        "print(5/3)\n"
      ]
    }
  ]
}